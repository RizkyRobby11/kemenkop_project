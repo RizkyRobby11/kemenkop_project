{
 "cells": [
  {
   "cell_type": "code",
   "execution_count": 12,
   "id": "4339144e",
   "metadata": {},
   "outputs": [],
   "source": [
    "\n",
    "df = pd.read_csv('data.csv')\n",
    "\n",
    "provinsi_df = df[['kode_provinsi','nama_provinsi']].drop_duplicates()\n",
    "# provinsi_df.head()\n",
    "provinsi_df.to_csv('provinsi.csv', index=False)\n",
    "\n",
    "\n",
    "kabupaten_df = df[['kode_provinsi','kode_kabkota','nama_kabupaten_kota']].drop_duplicates()\n",
    "# kabupaten_df.head()\n",
    "kabupaten_df.to_csv('kabupaten.csv', index=False)\n",
    "\n",
    "kecamatan_df = df[['kode_provinsi','kode_kabkota','kode_kecamatan','nama_kecamatan']].drop_duplicates()\n",
    "# kecamatan_df.head()\n",
    "kecamatan_df.to_csv('kecamatan.csv', index=False)\n",
    "\n",
    "kelurahan_df = df[['kode_provinsi','kode_kabkota','kode_kecamatan','kode_desa_kelurahan','nama_desa_kelurahan']].drop_duplicates()\n",
    "kelurahan_df.to_csv('desa_kelurahan.csv', index=False)"
   ]
  }
 ],
 "metadata": {
  "kernelspec": {
   "display_name": "Python 3",
   "language": "python",
   "name": "python3"
  },
  "language_info": {
   "codemirror_mode": {
    "name": "ipython",
    "version": 3
   },
   "file_extension": ".py",
   "mimetype": "text/x-python",
   "name": "python",
   "nbconvert_exporter": "python",
   "pygments_lexer": "ipython3",
   "version": "3.10.4"
  }
 },
 "nbformat": 4,
 "nbformat_minor": 5
}
